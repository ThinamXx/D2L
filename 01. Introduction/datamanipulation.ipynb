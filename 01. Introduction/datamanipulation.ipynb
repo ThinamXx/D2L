{
 "cells": [
  {
   "attachments": {},
   "cell_type": "markdown",
   "metadata": {},
   "source": [
    "**INITIALIZATION**\n",
    "\n",
    "I use these three lines of code on top of my each notebooks because it will help to prevent any problems while reloading the same project. And the third line of code helps to make visualization within the notebook."
   ]
  },
  {
   "cell_type": "code",
   "execution_count": 1,
   "metadata": {},
   "outputs": [],
   "source": [
    "# INITIALIZATION: \n",
    "%reload_ext autoreload\n",
    "%autoreload 2\n",
    "%matplotlib inline"
   ]
  },
  {
   "attachments": {},
   "cell_type": "markdown",
   "metadata": {},
   "source": [
    "**DOWNLOADING LIBRARIES AND DEPENDENCIES:**\n",
    "\n",
    "I have downloaded all the libraries and dependencies required for the project in one particular cell."
   ]
  },
  {
   "cell_type": "code",
   "execution_count": 2,
   "metadata": {},
   "outputs": [],
   "source": [
    "# INSTALLING LIBRARIES AND DEPENDENCIES:\n",
    "import os\n",
    "import pandas as pd\n",
    "import torch"
   ]
  },
  {
   "attachments": {},
   "cell_type": "markdown",
   "metadata": {},
   "source": [
    "**READING THE DATASET**"
   ]
  },
  {
   "cell_type": "code",
   "execution_count": 30,
   "metadata": {},
   "outputs": [],
   "source": [
    "# CREATING THE DATASET:\n",
    "os.makedirs(os.path.join('./', 'data'), exist_ok=True) \n",
    "data_file = os.path.join('./', 'data', 'house.csv')\n",
    "with open(data_file, 'w') as file:\n",
    "    file.write(\n",
    "        \"\"\"NumRooms,RoofType,Price\n",
    "        NA,NA,12788\n",
    "        4,NA,18899\n",
    "        6,Slate,788999\n",
    "        NA,NA,12788000000\"\"\"\n",
    "    )"
   ]
  },
  {
   "cell_type": "code",
   "execution_count": 31,
   "metadata": {},
   "outputs": [
    {
     "name": "stdout",
     "output_type": "stream",
     "text": [
      "     NumRooms RoofType        Price\n",
      "0          NA      NaN        12788\n",
      "1           4      NaN        18899\n",
      "2           6    Slate       788999\n",
      "3          NA      NaN  12788000000\n"
     ]
    }
   ],
   "source": [
    "# READING THE DATASET:\n",
    "data = pd.read_csv(data_file)\n",
    "print(data)"
   ]
  },
  {
   "attachments": {},
   "cell_type": "markdown",
   "metadata": {},
   "source": [
    "**DATA PREPARATION**"
   ]
  },
  {
   "cell_type": "code",
   "execution_count": 32,
   "metadata": {},
   "outputs": [
    {
     "name": "stdout",
     "output_type": "stream",
     "text": [
      "   NumRooms_        4  NumRooms_        6  NumRooms_        NA  NumRooms_nan  \\\n",
      "0                   0                   0                    1             0   \n",
      "1                   1                   0                    0             0   \n",
      "2                   0                   1                    0             0   \n",
      "3                   0                   0                    1             0   \n",
      "\n",
      "   RoofType_Slate  RoofType_nan  \n",
      "0               0             1  \n",
      "1               0             1  \n",
      "2               1             0  \n",
      "3               0             1  \n"
     ]
    }
   ],
   "source": [
    "# PREPARING THE DATASET:\n",
    "inputs, targets = data.iloc[:, 0:2], data.iloc[:, 2]\n",
    "inputs = pd.get_dummies(inputs, dummy_na=True)\n",
    "print(inputs)"
   ]
  },
  {
   "cell_type": "code",
   "execution_count": 33,
   "metadata": {},
   "outputs": [
    {
     "name": "stdout",
     "output_type": "stream",
     "text": [
      "   NumRooms_        4  NumRooms_        6  NumRooms_        NA  NumRooms_nan  \\\n",
      "0                   0                   0                    1             0   \n",
      "1                   1                   0                    0             0   \n",
      "2                   0                   1                    0             0   \n",
      "3                   0                   0                    1             0   \n",
      "\n",
      "   RoofType_Slate  RoofType_nan  \n",
      "0               0             1  \n",
      "1               0             1  \n",
      "2               1             0  \n",
      "3               0             1  \n"
     ]
    }
   ],
   "source": [
    "# PROCESSING THE DATASET:\n",
    "inputs = inputs.fillna(inputs.mean())\n",
    "print(inputs)"
   ]
  },
  {
   "cell_type": "code",
   "execution_count": 34,
   "metadata": {},
   "outputs": [
    {
     "data": {
      "text/plain": [
       "(tensor([[0, 0, 1, 0, 0, 1],\n",
       "         [1, 0, 0, 0, 0, 1],\n",
       "         [0, 1, 0, 0, 1, 0],\n",
       "         [0, 0, 1, 0, 0, 1]], dtype=torch.uint8),\n",
       " tensor([      12788,       18899,      788999, 12788000000]))"
      ]
     },
     "execution_count": 34,
     "metadata": {},
     "output_type": "execute_result"
    }
   ],
   "source": [
    "# CONVERTING INTO TENSORS:\n",
    "X, y = torch.tensor(inputs.values), torch.tensor(targets.values)\n",
    "X, y"
   ]
  }
 ],
 "metadata": {
  "kernelspec": {
   "display_name": "thinam_d2l",
   "language": "python",
   "name": "python3"
  },
  "language_info": {
   "codemirror_mode": {
    "name": "ipython",
    "version": 3
   },
   "file_extension": ".py",
   "mimetype": "text/x-python",
   "name": "python",
   "nbconvert_exporter": "python",
   "pygments_lexer": "ipython3",
   "version": "3.9.15"
  },
  "orig_nbformat": 4,
  "vscode": {
   "interpreter": {
    "hash": "bc60e7e9929c68399917ad602cea8b1df29b412d05113daedc0c8dc178d379f8"
   }
  }
 },
 "nbformat": 4,
 "nbformat_minor": 2
}
